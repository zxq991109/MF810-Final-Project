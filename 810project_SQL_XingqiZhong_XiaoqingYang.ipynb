{
  "nbformat": 4,
  "nbformat_minor": 0,
  "metadata": {
    "colab": {
      "name": "810project_SQL.ipynb",
      "provenance": []
    },
    "kernelspec": {
      "name": "python3",
      "display_name": "Python 3"
    },
    "language_info": {
      "name": "python"
    }
  },
  "cells": [
    {
      "cell_type": "code",
      "execution_count": 1,
      "metadata": {
        "colab": {
          "base_uri": "https://localhost:8080/"
        },
        "id": "P5m8mSv_-FoK",
        "outputId": "a35242c9-d6fd-4d3f-db76-839d4f1abed7"
      },
      "outputs": [
        {
          "output_type": "stream",
          "name": "stderr",
          "text": [
            "/usr/local/lib/python3.7/dist-packages/IPython/core/interactiveshell.py:2882: DtypeWarning: Columns (1,4,5,6,13,14,15,16) have mixed types.Specify dtype option on import or set low_memory=False.\n",
            "  exec(code_obj, self.user_global_ns, self.user_ns)\n"
          ]
        }
      ],
      "source": [
        "import pandas as pd\n",
        "metadf = pd.read_csv(\"drive/Shareddrives/810/metadata.csv\")\n"
      ]
    },
    {
      "cell_type": "code",
      "source": [
        "!pip3 install pyspark"
      ],
      "metadata": {
        "colab": {
          "base_uri": "https://localhost:8080/"
        },
        "id": "-QJ-Sx5aFVNv",
        "outputId": "d29e6746-bec9-4ed7-e2f8-0175898c41cb"
      },
      "execution_count": 3,
      "outputs": [
        {
          "output_type": "stream",
          "name": "stdout",
          "text": [
            "Collecting pyspark\n",
            "  Downloading pyspark-3.2.1.tar.gz (281.4 MB)\n",
            "\u001b[K     |████████████████████████████████| 281.4 MB 33 kB/s \n",
            "\u001b[?25hCollecting py4j==0.10.9.3\n",
            "  Downloading py4j-0.10.9.3-py2.py3-none-any.whl (198 kB)\n",
            "\u001b[K     |████████████████████████████████| 198 kB 49.2 MB/s \n",
            "\u001b[?25hBuilding wheels for collected packages: pyspark\n",
            "  Building wheel for pyspark (setup.py) ... \u001b[?25l\u001b[?25hdone\n",
            "  Created wheel for pyspark: filename=pyspark-3.2.1-py2.py3-none-any.whl size=281853642 sha256=3f466d65faac0d64ba586b69668650367acff3cb5c218cf3e616e5fe741f31fe\n",
            "  Stored in directory: /root/.cache/pip/wheels/9f/f5/07/7cd8017084dce4e93e84e92efd1e1d5334db05f2e83bcef74f\n",
            "Successfully built pyspark\n",
            "Installing collected packages: py4j, pyspark\n",
            "Successfully installed py4j-0.10.9.3 pyspark-3.2.1\n"
          ]
        }
      ]
    },
    {
      "cell_type": "code",
      "source": [
        "from pyspark.sql import SparkSession"
      ],
      "metadata": {
        "id": "muwxbuTYHMvf"
      },
      "execution_count": 4,
      "outputs": []
    },
    {
      "cell_type": "code",
      "source": [
        "MAX_MEMORY = \"20g\"\n",
        "spark = SparkSession \\\n",
        "    .builder \\\n",
        "    .appName(\"EcommerceAnalysis\") \\\n",
        "    .config(\"spark.executor.memory\", MAX_MEMORY) \\\n",
        "    .config(\"spark.driver.memory\", MAX_MEMORY) \\\n",
        "    .config(\"spark.ui.port\", \"4040\") \\\n",
        "    .master(\"local[*]\") \\\n",
        "    .getOrCreate()\n",
        "spark"
      ],
      "metadata": {
        "colab": {
          "base_uri": "https://localhost:8080/",
          "height": 216
        },
        "id": "7YyjQth9HOhv",
        "outputId": "896831b3-1e6b-49a0-9938-bb09214ded5e"
      },
      "execution_count": 5,
      "outputs": [
        {
          "output_type": "execute_result",
          "data": {
            "text/plain": [
              "<pyspark.sql.session.SparkSession at 0x7f290955fa50>"
            ],
            "text/html": [
              "\n",
              "            <div>\n",
              "                <p><b>SparkSession - in-memory</b></p>\n",
              "                \n",
              "        <div>\n",
              "            <p><b>SparkContext</b></p>\n",
              "\n",
              "            <p><a href=\"http://de216455ada1:4040\">Spark UI</a></p>\n",
              "\n",
              "            <dl>\n",
              "              <dt>Version</dt>\n",
              "                <dd><code>v3.2.1</code></dd>\n",
              "              <dt>Master</dt>\n",
              "                <dd><code>local[*]</code></dd>\n",
              "              <dt>AppName</dt>\n",
              "                <dd><code>EcommerceAnalysis</code></dd>\n",
              "            </dl>\n",
              "        </div>\n",
              "        \n",
              "            </div>\n",
              "        "
            ]
          },
          "metadata": {},
          "execution_count": 5
        }
      ]
    },
    {
      "cell_type": "code",
      "source": [
        "df = spark \\\n",
        "    .read \\\n",
        "    .option(\"header\", \"true\") \\\n",
        "    .option(\"inferSchema\", \"true\") \\\n",
        "    .csv(f\"/content/drive/Shareddrives/810/metadata.csv\")"
      ],
      "metadata": {
        "id": "bMH93w7QHhFr"
      },
      "execution_count": 7,
      "outputs": []
    },
    {
      "cell_type": "code",
      "source": [
        "df.write \\\n",
        "    .mode(\"overwrite\") \\\n",
        "    .option(\"compression\", \"gzip\")\\\n",
        "    .parquet(\"kag_pa\")"
      ],
      "metadata": {
        "id": "gw0fBH7PILYs"
      },
      "execution_count": 8,
      "outputs": []
    },
    {
      "cell_type": "code",
      "source": [
        "df = spark.read.parquet(\"kag_pa\").persist()"
      ],
      "metadata": {
        "id": "4YNlnrdqITUu"
      },
      "execution_count": 9,
      "outputs": []
    },
    {
      "cell_type": "code",
      "source": [
        "df.show()"
      ],
      "metadata": {
        "colab": {
          "base_uri": "https://localhost:8080/"
        },
        "id": "vQmdw8D8KrMo",
        "outputId": "8c1a4ebe-5612-45b0-a004-7c31fb9ca351"
      },
      "execution_count": 10,
      "outputs": [
        {
          "output_type": "stream",
          "name": "stdout",
          "text": [
            "+--------+----+--------+--------------------+--------------------+-----+---------+-------+--------------------+--------------------+--------------------+--------------------+--------------------+--------------------+--------------------+--------------------+--------------------+--------------------+--------------------+\n",
            "|cord_uid| sha|source_x|               title|                 doi|pmcid|pubmed_id|license|            abstract|        publish_time|             authors|             journal|              mag_id|    who_covidence_id|            arxiv_id|      pdf_json_files|      pmc_json_files|                 url|               s2_id|\n",
            "+--------+----+--------+--------------------+--------------------+-----+---------+-------+--------------------+--------------------+--------------------+--------------------+--------------------+--------------------+--------------------+--------------------+--------------------+--------------------+--------------------+\n",
            "|zjsgzqgz|null| Medline|Practical home-ba...|10.23736/s0022-47...| null| 33092335|    unk|                null|          2020-10-22|Zhang, Shiyan; Yu...|The Journal of sp...|                null|                null|                null|                null|                null|https://doi.org/1...|           225050288|\n",
            "|pjjxf5rp|null| Medline|Patients as partn...|  10.1002/anr3.12086| null| 33392510|    unk|Insitu simulation...|                2020|Cegielski, D; Dar...| Anaesthesia reports|                null|                null|                null|                null|                null|https://doi.org/1...|           229548929|\n",
            "|fltja2n3|null| Medline|Optimising specia...|10.1177/1357633x2...| null| 34726995|    unk|Telehealth can ef...|          2021-12-01|Haydon, Helen M; ...|Journal of teleme...|                null|                null|                null|                null|                null|https://doi.org/1...|           241115651|\n",
            "|ru7erkbm|null| Medline|Predictors of Mor...|   10.1002/jmv.26750| null| 33350488|    unk|INTRODUCTION The ...|          2020-12-22|Merugu, Ganesh Pr...|Journal of medica...|                null|                null|                null|                null|                null|https://doi.org/1...|           229353494|\n",
            "|3yi5wx07|null| Medline|Invited Review: A...|   10.1111/nan.12529| null| 30394574|  cc-by|Despite more than...|                2019|Tzioras, M; Davie...|Neuropathology an...|                null|                null|                null|                null|                null|https://doi.org/1...|            53215655|\n",
            "|jtkct565|null| Medline|Eye health and qu...|10.1136/bmjopen-2...| null| 32868362|  cc-by|INTRODUCTION Visi...|          2020-08-30|Assi, Lama; Rosma...|            BMJ open|                null|                null|                null|                null|                null|https://doi.org/1...|           221402471|\n",
            "|49cbl5b5|null| Medline|Feasibility of a ...|10.1109/embc.2016...| null| 28227501|    unk|Development of a ...|                2016|Opie, Nicholas L;...|Conference procee...|                null|                null|                null|                null|                null|https://doi.org/1...|            11522552|\n",
            "|akxaru5a|null| Medline|Inpatient Transit...|10.1089/dia.2020....| null| 32396395|    unk|\"Introduction: Du...| the diabetes ser...| especially in th...|          2020-05-12|Jones, Morgan S; ...|Diabetes technolo...|                null|                null|                null|                null|                null|\n",
            "|fg0st4lg|null| Medline|The Power of Peer...|    10.5688/ajpe8471| null| 34283744|    unk|Regardless of a f...|          2021-02-01|Biehle, Lauren; C...|American journal ...|                null|                null|                null|                null|                null|https://doi.org/1...|           232093220|\n",
            "|xq3umt6s|null| Medline|Physiotherapy stu...|10.1186/s12909-02...| null| 33243213|  cc-by|BACKGROUND Simula...|          2020-11-26|Pritchard, Shane ...|BMC medical educa...|                null|                null|                null|                null|                null|https://doi.org/1...|           227180075|\n",
            "|1f8yx3ef|null| Medline|What makes one fe...|  10.1111/bjhp.12501| null| 33400353|    unk|OBJECTIVE Health ...|          2021-01-05|Merino, M Dolores...|British journal o...|                null|                null|                null|                null|                null|https://doi.org/1...|           230663060|\n",
            "|wn97pah8|null| Medline|TMPRSS2 activates...|10.1128/jvi.03372-12| null| 23536651|    unk|Infection with hu...|                2013|Bertram, Stephani...| Journal of virology|                null|                null|                null|                null|                null|https://doi.org/1...|            24942119|\n",
            "|fir831nd|null| Medline|Is saliva a relia...| 10.17219/dmp/132515| null| 34043887|    unk|\"This review aime...|      \"\"SARS-CoV-2\"\"|       \"\"2019-nCoV\"\"|      \"\"oral fluid\"\"|          \"\"saliva\"\"|   and \"\"diagnosis\"\"| individually and...| and 11 studies t...| these studies su...| saliva offers en...| there is still l...|\n",
            "|36c5468c|null| Medline|Posttraumatic Str...|10.1016/j.biopsyc...| null| 32709416|    unk|Posttraumatic str...|          2020-06-10|Cisler, Josh M; H...|Biological psychi...|                null|                null|                null|                null|                null|https://doi.org/1...|           219559928|\n",
            "|emn93fql|null| Medline|Upregulation of A...|10.1177/014556132...| null| 34130518|    unk|                null|          2021-06-15|Jain, Amit; Lampe...|Ear, nose, & thro...|                null|                null|                null|                null|                null|https://doi.org/1...|           235450460|\n",
            "|23v6aiyq|null| Medline|Willingness of in...|10.1017/s1049023x...| null| 25007172|    unk|BACKGROUND An ear...|                2014|Shenhar, Gilead; ...|Prehospital and d...|                null|                null|                null|                null|                null|https://doi.org/1...|            21775163|\n",
            "|3egab2ld|null| Medline|Preclinical and c...|10.23736/s0021-95...| null| 31089086|    unk|BACKGROUND Synthe...|                2019|Pellenc, Quentin;...|The Journal of ca...|                null|                null|                null|                null|                null|https://doi.org/1...|           155090921|\n",
            "|7mkli8s3|null| Medline|Predicting asthma...|10.3399/bjgp.2020...| null| 34133316|    unk|\"BACKGROUND There...|          2021-06-15|Noble, Michael; B...|The British journ...|                null|                null|                null|                null|                null|https://doi.org/1...|           235459853|\n",
            "|q2yaqlc1|null| Medline|   Radical Practice.|10.1177/152483992...| null| 33295210|    unk|                null|          2021-01-01|     Roe, Kathleen M|Health promotion ...|                null|                null|                null|                null|                null|https://doi.org/1...|           228079379|\n",
            "|8kaqqlfc|null| Medline|Traditional versu...|10.1007/s00268-01...| null| 24984879|    unk|BACKGROUND Roboti...|                2014|Tranchart, Hadrie...|World journal of ...|                null|                null|                null|                null|                null|https://doi.org/1...|            23318342|\n",
            "+--------+----+--------+--------------------+--------------------+-----+---------+-------+--------------------+--------------------+--------------------+--------------------+--------------------+--------------------+--------------------+--------------------+--------------------+--------------------+--------------------+\n",
            "only showing top 20 rows\n",
            "\n"
          ]
        }
      ]
    },
    {
      "cell_type": "code",
      "source": [
        "df.count()"
      ],
      "metadata": {
        "colab": {
          "base_uri": "https://localhost:8080/"
        },
        "id": "hjkM_ouXKsZM",
        "outputId": "dac2823b-9c53-4171-dbd2-6e3c39b32d05"
      },
      "execution_count": 11,
      "outputs": [
        {
          "output_type": "execute_result",
          "data": {
            "text/plain": [
              "902589"
            ]
          },
          "metadata": {},
          "execution_count": 11
        }
      ]
    },
    {
      "cell_type": "code",
      "source": [
        "_df = df.select(\"pmcid\").where(\"pmcid like '%PMC%' and pmc_json_files != 'null'\")\n",
        "_df.toPandas().to_csv('pmcidlist.csv')\n"
      ],
      "metadata": {
        "id": "RX194_5Zd53k"
      },
      "execution_count": 13,
      "outputs": []
    },
    {
      "cell_type": "code",
      "source": [
        "df.registerTempTable(\"kag\")"
      ],
      "metadata": {
        "colab": {
          "base_uri": "https://localhost:8080/"
        },
        "id": "2d2oU-iTMg-X",
        "outputId": "0895aa38-04e1-40d3-a20a-d237bf72f0f3"
      },
      "execution_count": 12,
      "outputs": [
        {
          "output_type": "stream",
          "name": "stderr",
          "text": [
            "/usr/local/lib/python3.7/dist-packages/pyspark/sql/dataframe.py:140: FutureWarning: Deprecated in 2.0, use createOrReplaceTempView instead.\n",
            "  FutureWarning\n"
          ]
        }
      ]
    },
    {
      "cell_type": "code",
      "source": [
        "spark.sql(\"select * from kag limit 5\").show()"
      ],
      "metadata": {
        "colab": {
          "base_uri": "https://localhost:8080/"
        },
        "id": "_dXozf4mM1qz",
        "outputId": "97d0cc92-3968-4ff7-e01a-34c89ac1080a"
      },
      "execution_count": 14,
      "outputs": [
        {
          "output_type": "stream",
          "name": "stdout",
          "text": [
            "+--------+----+--------+--------------------+--------------------+-----+---------+-------+--------------------+------------+--------------------+--------------------+------+----------------+--------+--------------+--------------+--------------------+---------+\n",
            "|cord_uid| sha|source_x|               title|                 doi|pmcid|pubmed_id|license|            abstract|publish_time|             authors|             journal|mag_id|who_covidence_id|arxiv_id|pdf_json_files|pmc_json_files|                 url|    s2_id|\n",
            "+--------+----+--------+--------------------+--------------------+-----+---------+-------+--------------------+------------+--------------------+--------------------+------+----------------+--------+--------------+--------------+--------------------+---------+\n",
            "|zjsgzqgz|null| Medline|Practical home-ba...|10.23736/s0022-47...| null| 33092335|    unk|                null|  2020-10-22|Zhang, Shiyan; Yu...|The Journal of sp...|  null|            null|    null|          null|          null|https://doi.org/1...|225050288|\n",
            "|pjjxf5rp|null| Medline|Patients as partn...|  10.1002/anr3.12086| null| 33392510|    unk|Insitu simulation...|        2020|Cegielski, D; Dar...| Anaesthesia reports|  null|            null|    null|          null|          null|https://doi.org/1...|229548929|\n",
            "|fltja2n3|null| Medline|Optimising specia...|10.1177/1357633x2...| null| 34726995|    unk|Telehealth can ef...|  2021-12-01|Haydon, Helen M; ...|Journal of teleme...|  null|            null|    null|          null|          null|https://doi.org/1...|241115651|\n",
            "|ru7erkbm|null| Medline|Predictors of Mor...|   10.1002/jmv.26750| null| 33350488|    unk|INTRODUCTION The ...|  2020-12-22|Merugu, Ganesh Pr...|Journal of medica...|  null|            null|    null|          null|          null|https://doi.org/1...|229353494|\n",
            "|3yi5wx07|null| Medline|Invited Review: A...|   10.1111/nan.12529| null| 30394574|  cc-by|Despite more than...|        2019|Tzioras, M; Davie...|Neuropathology an...|  null|            null|    null|          null|          null|https://doi.org/1...| 53215655|\n",
            "+--------+----+--------+--------------------+--------------------+-----+---------+-------+--------------------+------------+--------------------+--------------------+------+----------------+--------+--------------+--------------+--------------------+---------+\n",
            "\n"
          ]
        }
      ]
    },
    {
      "cell_type": "code",
      "source": [
        "spark.sql(\"\"\"\n",
        "\n",
        "\n",
        "select count(pmcid) from kag where pmcid like 'PMC%'\n",
        "\n",
        "\"\"\").show()"
      ],
      "metadata": {
        "colab": {
          "base_uri": "https://localhost:8080/"
        },
        "id": "ah2mNbxUPGsy",
        "outputId": "9e3fe627-813d-4f1a-8ff5-70c335dfc38f"
      },
      "execution_count": 15,
      "outputs": [
        {
          "output_type": "stream",
          "name": "stdout",
          "text": [
            "+------------+\n",
            "|count(pmcid)|\n",
            "+------------+\n",
            "|      325252|\n",
            "+------------+\n",
            "\n"
          ]
        }
      ]
    },
    {
      "cell_type": "code",
      "source": [
        "spark.sql(\"\"\"\n",
        "\n",
        "\n",
        "select count(pmcid) from kag where pmcid like 'PMC%' and publish_time>'2019-12-01'\n",
        "\n",
        "\"\"\").show()"
      ],
      "metadata": {
        "colab": {
          "base_uri": "https://localhost:8080/"
        },
        "id": "xnFQNmL99Odm",
        "outputId": "e9523d6e-2ff8-43ab-e266-ead32bbaf9c4"
      },
      "execution_count": null,
      "outputs": [
        {
          "output_type": "stream",
          "name": "stdout",
          "text": [
            "+------------+\n",
            "|count(pmcid)|\n",
            "+------------+\n",
            "|      273983|\n",
            "+------------+\n",
            "\n"
          ]
        }
      ]
    },
    {
      "cell_type": "code",
      "source": [
        "spark.sql(\"\"\"\n",
        "\n",
        "\n",
        "select pmcid, publish_time, title, authors, abstract from kag where pmcid like 'PMC%' and publish_time>='2019-12-01'\n",
        "order by publish_time\n",
        "\n",
        "\"\"\").show()"
      ],
      "metadata": {
        "colab": {
          "base_uri": "https://localhost:8080/"
        },
        "id": "i8213T3XA4Z1",
        "outputId": "531b0ea0-c521-4f24-d601-008dfc3688e4"
      },
      "execution_count": 16,
      "outputs": [
        {
          "output_type": "stream",
          "name": "stdout",
          "text": [
            "+----------+------------+--------------------+--------------------+--------------------+\n",
            "|     pmcid|publish_time|               title|             authors|            abstract|\n",
            "+----------+------------+--------------------+--------------------+--------------------+\n",
            "|PMC7327228|  2019-12-01|Implementing the ...|Seal, Hayley E.; ...|Children with con...|\n",
            "|PMC8422197|  2019-12-01|Message from Depu...|    Leung, Gabriel M|                null|\n",
            "|PMC8422199|  2019-12-01|One Hundred Years...|Zhang, Ran; Dong,...|Almost 100 years ...|\n",
            "|PMC7122531|  2019-12-01|Complication from...|      Han, Duck Jong|Sensitization to ...|\n",
            "|PMC7247748|  2019-12-01|Immunogenicity of...|Thibau, Arno; Dic...|The current probl...|\n",
            "|PMC6874263|  2019-12-01|MERS-CoV in Camel...|Farag, Elmoubashe...|We tested samples...|\n",
            "|PMC7358814|  2019-12-01|2019 NOVEL CORONA...|       Fagbule, O.F.|                null|\n",
            "|PMC6863388|  2019-12-01|Characterisation ...|Lawson, J.S.; Sym...|The Crandell-Rees...|\n",
            "|PMC6962603|  2019-12-01|Antiviral immunit...|Singanayagam, Ara...|Patients with fre...|\n",
            "|PMC7133260|  2019-12-01|Graphical Abstrac...|                null|                null|\n",
            "|PMC6926486|  2019-12-01|Enzootic patterns...|El-Kafrawy, Sheri...|BACKGROUND: The M...|\n",
            "|PMC7097340|  2019-12-01|Antiviral effect ...|Ben-Shabat, Shimo...|Viral infections ...|\n",
            "|PMC6899506|  2019-12-01|A systematic revi...|Dighe, Amy; Jomba...|Human infection w...|\n",
            "|PMC8422198|  2019-12-01|Morbidity Analysi...|Dong, Shuaibing; ...|What is already k...|\n",
            "|PMC6874236|  2019-12-01|Half-Life of Afri...|Stoian, Ana M.M.;...|African swine fev...|\n",
            "|PMC6964808|  2019-12-01|Implementation Sy...|Kim, Amanda J.; T...|Laws are fundamen...|\n",
            "|PMC7195332|  2019-12-01|Discovery of nove...|Grädler, Ulrich; ...|Abstract Fragment...|\n",
            "|PMC6874235|  2019-12-01|Middle East Respi...|Zheng, Jian; Hass...|A high percentage...|\n",
            "|PMC8048528|  2019-12-01|Spatiotemporal re...|Harvey, William T...|Effective control...|\n",
            "|PMC7126094|  2019-12-01|Synthesis and bio...|Yoon, Ji Hye; Lee...|3-Acyl-2-phenylam...|\n",
            "+----------+------------+--------------------+--------------------+--------------------+\n",
            "only showing top 20 rows\n",
            "\n"
          ]
        }
      ]
    },
    {
      "cell_type": "markdown",
      "source": [
        "Import the title SIA result"
      ],
      "metadata": {
        "id": "-41hW3qT2h5V"
      }
    },
    {
      "cell_type": "code",
      "source": [
        "result = spark \\\n",
        "    .read \\\n",
        "    .option(\"header\", \"true\") \\\n",
        "    .option(\"inferSchema\", \"true\") \\\n",
        "    .csv(f\"/content/drive/Shareddrives/810/title_result.csv\")\n",
        "\n",
        "\n",
        "result.write \\\n",
        "    .mode(\"overwrite\") \\\n",
        "    .option(\"compression\", \"gzip\")\\\n",
        "    .parquet(\"kag_lb\")\n",
        "\n",
        "result = spark.read.parquet(\"kag_lb\").persist()\n",
        "\n",
        "result.registerTempTable(\"result\")"
      ],
      "metadata": {
        "colab": {
          "base_uri": "https://localhost:8080/"
        },
        "id": "mo2MMyDSB08c",
        "outputId": "4522481b-aeac-488f-f69d-c4ecf8b67f26"
      },
      "execution_count": 17,
      "outputs": [
        {
          "output_type": "stream",
          "name": "stderr",
          "text": [
            "/usr/local/lib/python3.7/dist-packages/pyspark/sql/dataframe.py:140: FutureWarning: Deprecated in 2.0, use createOrReplaceTempView instead.\n",
            "  FutureWarning\n"
          ]
        }
      ]
    },
    {
      "cell_type": "code",
      "source": [
        "spark.sql(\"\"\"\n",
        "\n",
        "\n",
        "select * from result \n",
        "\n",
        "\"\"\").show()"
      ],
      "metadata": {
        "colab": {
          "base_uri": "https://localhost:8080/"
        },
        "id": "aEzo9Q_yEnTv",
        "outputId": "c9e15c4b-7a0a-4f84-86df-8ffb3949faad"
      },
      "execution_count": 18,
      "outputs": [
        {
          "output_type": "stream",
          "name": "stdout",
          "text": [
            "+---+-----+-----+-----+--------+--------------------+----------+-----+\n",
            "|_c0|  neg|  neu|  pos|compound|               title|  paper_id|label|\n",
            "+---+-----+-----+-----+--------+--------------------+----------+-----+\n",
            "|  0|  0.0|  1.0|  0.0|     0.0|Timing of surgery...|PMC8206995|  0.0|\n",
            "|  1|  0.0|  1.0|  0.0|     0.0|     Poster Sessions|PMC7111423|  0.0|\n",
            "|  2|  0.0|  1.0|  0.0|     0.0|Cardiovascular Ac...|PMC7122603|  0.0|\n",
            "|  3|  0.0|  1.0|  0.0|     0.0|             Posters|PMC7162159|  0.0|\n",
            "|  4|  0.0|  1.0|  0.0|     0.0|             Posters|PMC7130089|  0.0|\n",
            "|  5|  0.0|  1.0|  0.0|     0.0|Foot & mouth disease|PMC7111224|  0.0|\n",
            "|  6|  0.0|  1.0|  0.0|     0.0|SARS‐CoV‐2 infect...|PMC8652887|  0.0|\n",
            "|  7|  0.0|0.697|0.303|  0.7269|SARS-CoV-2 vaccin...|PMC7995808|  1.0|\n",
            "|  8|  0.0|  1.0|  0.0|     0.0|Fusarium: more th...|PMC8379525|  0.0|\n",
            "|  9|  0.0|  1.0|  0.0|     0.0|Infektionsschutz ...|PMC7152143|  0.0|\n",
            "| 10|  0.0|  1.0|  0.0|     0.0|Fungal diversity ...|PMC8648402|  0.0|\n",
            "| 11|0.157|0.843|  0.0| -0.3818|The Japanese Clin...|PMC8384927| -1.0|\n",
            "| 12|  0.0|  1.0|  0.0|     0.0|Non-neoplastic di...|PMC7339753|  0.0|\n",
            "| 13|  0.0|  1.0|  0.0|     0.0|Disorders of the ...|PMC7158344|  0.0|\n",
            "| 14|  0.0|  1.0|  0.0|     0.0|2019 HRS/EHRA/APH...|PMC7223859|  0.0|\n",
            "| 15|0.111|0.889|  0.0|  -0.128|The proteasome as...|PMC7236745| -1.0|\n",
            "| 16|  0.0|  1.0|  0.0|     0.0|Enfermedades infe...|PMC7271218|  0.0|\n",
            "| 17|  0.0|  1.0|  0.0|     0.0|Single-Stranded R...|PMC7158200|  0.0|\n",
            "| 18|  0.0|  1.0|  0.0|     0.0|The Immunophysiol...|PMC7158304|  0.0|\n",
            "| 19|  0.0|0.725|0.275|  0.2263|Exploration of th...|PMC7112061|  1.0|\n",
            "+---+-----+-----+-----+--------+--------------------+----------+-----+\n",
            "only showing top 20 rows\n",
            "\n"
          ]
        }
      ]
    },
    {
      "cell_type": "code",
      "source": [
        "spark.sql(\"\"\"\n",
        "with merged_df as (\n",
        "    select pmcid, publish_time, title as md_title, authors, abstract\n",
        "    from kag \n",
        "    where pmcid like 'PMC%' and publish_time>='2019-12-01'\n",
        "    order by kag.publish_time\n",
        "  )\n",
        "\n",
        "select pmcid, publish_time, md_title, authors, abstract, neg, neu, pos, compound, label\n",
        "from merged_df\n",
        "INNER JOIN result ON merged_df.pmcid=result.paper_id;\n",
        "\n",
        "\"\"\").show()\n",
        "\n"
      ],
      "metadata": {
        "colab": {
          "base_uri": "https://localhost:8080/"
        },
        "id": "vrOLa2_oCGbK",
        "outputId": "3fa8ba5d-18f3-49ef-c016-5ffb72dfe52b"
      },
      "execution_count": 19,
      "outputs": [
        {
          "output_type": "stream",
          "name": "stdout",
          "text": [
            "+----------+------------+--------------------+--------------------+--------------------+-----+-----+-----+--------+-----+\n",
            "|     pmcid|publish_time|            md_title|             authors|            abstract|  neg|  neu|  pos|compound|label|\n",
            "+----------+------------+--------------------+--------------------+--------------------+-----+-----+-----+--------+-----+\n",
            "|PMC6874235|  2019-12-01|Middle East Respi...|Zheng, Jian; Hass...|A high percentage...|  0.0|  1.0|  0.0|     0.0|  0.0|\n",
            "|PMC6890879|  2019-12-03|Evaluation of ant...|Peng, Ju-Yi; Horn...|Bacillus lichenif...|  0.0|  1.0|  0.0|     0.0|  0.0|\n",
            "|PMC6898929|  2019-12-06|Risk factors for ...|Gupta, Ena; Hosse...|BACKGROUND: Clini...|0.244|0.756|  0.0| -0.6705| -1.0|\n",
            "|PMC6899506|  2019-12-01|A systematic revi...|Dighe, Amy; Jomba...|Human infection w...|  0.0|  1.0|  0.0|     0.0|  0.0|\n",
            "|PMC6901795|  2019-12-03|Zebrafish TRIM25 ...|Jin, Yilin; Jia, ...|RIG-I-like recept...|  0.0|0.796|0.204|  0.5574|  1.0|\n",
            "|PMC6902615|  2019-12-09|Spontaneous breat...|Xia, Jingen; Gu, ...|BACKGROUND: The u...|0.316|0.684|  0.0| -0.7184| -1.0|\n",
            "|PMC6905523|  2019-12-11|IL-4/IL-13 polari...|Rogers, Kai J.; B...|BACKGROUND: Ebola...|  0.0|  1.0|  0.0|     0.0|  0.0|\n",
            "|PMC6909074|  2019-12-05|Effect of carboni...|Esfandiari, Neda;...|BACKGROUND: Prist...|  0.0|  1.0|  0.0|     0.0|  0.0|\n",
            "|PMC6910952|  2019-12-13|Structural insigh...|Sato, Yusuke; Tsu...|Npl4 is likely to...|  0.0|  1.0|  0.0|     0.0|  0.0|\n",
            "|PMC6912106|  2019-12-12|Recombinant Rotav...|Papa, Guido; Vend...|Rotavirus (RV) re...|  0.0|0.859|0.141|  0.4215|  1.0|\n",
            "|PMC6917592|  2019-12-11|Interferon-Indepe...|Ashley, Caroline ...|The critical role...|  0.0|  1.0|  0.0|     0.0|  0.0|\n",
            "|PMC6924143|  2019-12-20|Prediction of nov...|Khanna, Varun; Li...|BACKGROUND: Toll-...|  0.0|0.796|0.204|  0.3182|  1.0|\n",
            "|PMC6925858|  2019-12-21|A review on the e...|Matei, Ioana A.; ...|Anaplasma phagocy...|  0.0|  1.0|  0.0|     0.0|  0.0|\n",
            "|PMC6928167|  2019-12-23|Herpes simplex vi...|Hraiech, Sami; Bo...|BACKGROUND: Herpe...|0.178|0.822|  0.0| -0.3818| -1.0|\n",
            "|PMC6934550|  2019-12-27|In Vivo Activity ...|DeWald, Lisa Evan...|During the Ebola ...|  0.0|  1.0|  0.0|     0.0|  0.0|\n",
            "|PMC6934710|  2019-12-27|A natural polymor...|Ávila-Pérez, Gine...|Zika virus (ZIKV)...|  0.0|0.676|0.324|  0.5859|  1.0|\n",
            "|PMC6935106|  2019-12-27|Prevalence and ph...|Zhang, Fanfan; Lu...|BACKGROUND: In Ch...|  0.0|  1.0|  0.0|     0.0|  0.0|\n",
            "|PMC6936066|  2019-12-30|Roles of transfor...|Song, Dongli; Tan...|BACKGROUND: Teloc...|  0.0| 0.86| 0.14|  0.3818|  1.0|\n",
            "|PMC6939335|  2020-01-02|Dexmedetomidine i...|Nakashima, Tsuyos...|BACKGROUND: Dexme...|0.132|0.711|0.157|   0.128|  1.0|\n",
            "|PMC6941262|  2020-01-02|Whole genome sequ...|Kamau, Everlyn; O...|BACKGROUND: Human...|0.145|0.855|  0.0|  -0.296| -1.0|\n",
            "+----------+------------+--------------------+--------------------+--------------------+-----+-----+-----+--------+-----+\n",
            "only showing top 20 rows\n",
            "\n"
          ]
        }
      ]
    },
    {
      "cell_type": "code",
      "source": [
        "spark.sql(\"\"\"\n",
        "with merged_df as (\n",
        "    select pmcid, publish_time, title as md_title, authors, abstract\n",
        "    from kag \n",
        "    where pmcid like 'PMC%' and publish_time>='2019-12-01'\n",
        "    order by kag.publish_time),\n",
        "\n",
        " df as (\n",
        "  select pmcid, publish_time, md_title, authors, abstract, neg, neu, pos, compound, label\n",
        "from merged_df\n",
        "INNER JOIN result ON merged_df.pmcid=result.paper_id)\n",
        "\n",
        "select  pmcid, EXTRACT(YEAR FROM publish_time) as publish_year, md_title, authors, abstract, neg, neu, pos, compound, label\n",
        "from df\n",
        "\n",
        "\"\"\").show()\n"
      ],
      "metadata": {
        "colab": {
          "base_uri": "https://localhost:8080/"
        },
        "id": "cQoPX4sAPA0u",
        "outputId": "5a217a95-6d02-4889-bb9b-1cf02e806ced"
      },
      "execution_count": 20,
      "outputs": [
        {
          "output_type": "stream",
          "name": "stdout",
          "text": [
            "+----------+------------+--------------------+--------------------+--------------------+-----+-----+-----+--------+-----+\n",
            "|     pmcid|publish_year|            md_title|             authors|            abstract|  neg|  neu|  pos|compound|label|\n",
            "+----------+------------+--------------------+--------------------+--------------------+-----+-----+-----+--------+-----+\n",
            "|PMC6874235|        2019|Middle East Respi...|Zheng, Jian; Hass...|A high percentage...|  0.0|  1.0|  0.0|     0.0|  0.0|\n",
            "|PMC6890879|        2019|Evaluation of ant...|Peng, Ju-Yi; Horn...|Bacillus lichenif...|  0.0|  1.0|  0.0|     0.0|  0.0|\n",
            "|PMC6898929|        2019|Risk factors for ...|Gupta, Ena; Hosse...|BACKGROUND: Clini...|0.244|0.756|  0.0| -0.6705| -1.0|\n",
            "|PMC6899506|        2019|A systematic revi...|Dighe, Amy; Jomba...|Human infection w...|  0.0|  1.0|  0.0|     0.0|  0.0|\n",
            "|PMC6901795|        2019|Zebrafish TRIM25 ...|Jin, Yilin; Jia, ...|RIG-I-like recept...|  0.0|0.796|0.204|  0.5574|  1.0|\n",
            "|PMC6902615|        2019|Spontaneous breat...|Xia, Jingen; Gu, ...|BACKGROUND: The u...|0.316|0.684|  0.0| -0.7184| -1.0|\n",
            "|PMC6905523|        2019|IL-4/IL-13 polari...|Rogers, Kai J.; B...|BACKGROUND: Ebola...|  0.0|  1.0|  0.0|     0.0|  0.0|\n",
            "|PMC6909074|        2019|Effect of carboni...|Esfandiari, Neda;...|BACKGROUND: Prist...|  0.0|  1.0|  0.0|     0.0|  0.0|\n",
            "|PMC6910952|        2019|Structural insigh...|Sato, Yusuke; Tsu...|Npl4 is likely to...|  0.0|  1.0|  0.0|     0.0|  0.0|\n",
            "|PMC6912106|        2019|Recombinant Rotav...|Papa, Guido; Vend...|Rotavirus (RV) re...|  0.0|0.859|0.141|  0.4215|  1.0|\n",
            "|PMC6917592|        2019|Interferon-Indepe...|Ashley, Caroline ...|The critical role...|  0.0|  1.0|  0.0|     0.0|  0.0|\n",
            "|PMC6924143|        2019|Prediction of nov...|Khanna, Varun; Li...|BACKGROUND: Toll-...|  0.0|0.796|0.204|  0.3182|  1.0|\n",
            "|PMC6925858|        2019|A review on the e...|Matei, Ioana A.; ...|Anaplasma phagocy...|  0.0|  1.0|  0.0|     0.0|  0.0|\n",
            "|PMC6928167|        2019|Herpes simplex vi...|Hraiech, Sami; Bo...|BACKGROUND: Herpe...|0.178|0.822|  0.0| -0.3818| -1.0|\n",
            "|PMC6934550|        2019|In Vivo Activity ...|DeWald, Lisa Evan...|During the Ebola ...|  0.0|  1.0|  0.0|     0.0|  0.0|\n",
            "|PMC6934710|        2019|A natural polymor...|Ávila-Pérez, Gine...|Zika virus (ZIKV)...|  0.0|0.676|0.324|  0.5859|  1.0|\n",
            "|PMC6935106|        2019|Prevalence and ph...|Zhang, Fanfan; Lu...|BACKGROUND: In Ch...|  0.0|  1.0|  0.0|     0.0|  0.0|\n",
            "|PMC6936066|        2019|Roles of transfor...|Song, Dongli; Tan...|BACKGROUND: Teloc...|  0.0| 0.86| 0.14|  0.3818|  1.0|\n",
            "|PMC6939335|        2020|Dexmedetomidine i...|Nakashima, Tsuyos...|BACKGROUND: Dexme...|0.132|0.711|0.157|   0.128|  1.0|\n",
            "|PMC6941262|        2020|Whole genome sequ...|Kamau, Everlyn; O...|BACKGROUND: Human...|0.145|0.855|  0.0|  -0.296| -1.0|\n",
            "+----------+------------+--------------------+--------------------+--------------------+-----+-----+-----+--------+-----+\n",
            "only showing top 20 rows\n",
            "\n"
          ]
        }
      ]
    },
    {
      "cell_type": "code",
      "source": [
        "spark.sql(\"\"\"\n",
        "with merged_df as (\n",
        "    select pmcid, publish_time, title as md_title, authors, abstract\n",
        "    from kag \n",
        "    where pmcid like 'PMC%' and publish_time>='2020-01-01' and publish_time<='2023-01-01'\n",
        "    order by kag.publish_time),\n",
        "\n",
        " df as (\n",
        "  select pmcid, publish_time, md_title, authors, abstract, neg, neu, pos, compound, label\n",
        "from merged_df\n",
        "INNER JOIN result ON merged_df.pmcid=result.paper_id)\n",
        "\n",
        "select EXTRACT(YEAR FROM publish_time) as publish_year,avg(compound)\n",
        "from df\n",
        "group by publish_year\n",
        "\n",
        "order by publish_year\n",
        "\n",
        "\n",
        "\"\"\").show()"
      ],
      "metadata": {
        "colab": {
          "base_uri": "https://localhost:8080/"
        },
        "id": "PPe7ythLVgiw",
        "outputId": "d07d60ca-940c-46ab-9693-3ce95bc011e4"
      },
      "execution_count": 21,
      "outputs": [
        {
          "output_type": "stream",
          "name": "stdout",
          "text": [
            "+------------+--------------------+\n",
            "|publish_year|       avg(compound)|\n",
            "+------------+--------------------+\n",
            "|        2020|-0.00853388939756...|\n",
            "|        2021|-0.00409004964988...|\n",
            "|        2022|0.004802362984040585|\n",
            "+------------+--------------------+\n",
            "\n"
          ]
        }
      ]
    },
    {
      "cell_type": "code",
      "source": [
        "spark.stop()"
      ],
      "metadata": {
        "id": "J2k17bI9NEqg"
      },
      "execution_count": 23,
      "outputs": []
    }
  ]
}