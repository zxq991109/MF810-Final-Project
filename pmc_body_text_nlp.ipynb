{
  "cells": [
    {
      "cell_type": "code",
      "execution_count": 1,
      "metadata": {
        "id": "UaAMtLO-esyF"
      },
      "outputs": [],
      "source": [
        "import json\n",
        "import pandas as pd\n",
        "import random\n",
        "import os\n",
        "import zipfile"
      ]
    },
    {
      "cell_type": "code",
      "execution_count": 2,
      "metadata": {
        "colab": {
          "base_uri": "https://localhost:8080/"
        },
        "id": "M-JuBBn6tIvV",
        "outputId": "3e3b9814-54c3-4f40-afb2-2820f127dc96"
      },
      "outputs": [
        {
          "output_type": "stream",
          "name": "stdout",
          "text": [
            "Mounted at /content/drive\n"
          ]
        }
      ],
      "source": [
        "from google.colab import drive\n",
        "drive.mount('/content/drive')"
      ]
    },
    {
      "cell_type": "code",
      "execution_count": 3,
      "metadata": {
        "id": "T-Dz1K4xesrs"
      },
      "outputs": [],
      "source": [
        "with zipfile.ZipFile(\"drive/Shared drives/810/pmc_json.zip\",\"r\") as zf:\n",
        "    zf.extractall('ppmc')"
      ]
    },
    {
      "cell_type": "code",
      "execution_count": 4,
      "metadata": {
        "id": "NMk7jZN6TNVF",
        "colab": {
          "base_uri": "https://localhost:8080/"
        },
        "outputId": "4b62b329-8077-4787-909d-7f1c82fe9e35"
      },
      "outputs": [
        {
          "output_type": "stream",
          "name": "stdout",
          "text": [
            "Collecting pyspark\n",
            "  Downloading pyspark-3.2.1.tar.gz (281.4 MB)\n",
            "\u001b[K     |████████████████████████████████| 281.4 MB 38 kB/s \n",
            "\u001b[?25hCollecting py4j==0.10.9.3\n",
            "  Downloading py4j-0.10.9.3-py2.py3-none-any.whl (198 kB)\n",
            "\u001b[K     |████████████████████████████████| 198 kB 51.2 MB/s \n",
            "\u001b[?25hBuilding wheels for collected packages: pyspark\n",
            "  Building wheel for pyspark (setup.py) ... \u001b[?25l\u001b[?25hdone\n",
            "  Created wheel for pyspark: filename=pyspark-3.2.1-py2.py3-none-any.whl size=281853642 sha256=06ad659e14511964b01848d8a538c61d8ae790292b0d6ad4f5fe31cf5c755f45\n",
            "  Stored in directory: /root/.cache/pip/wheels/9f/f5/07/7cd8017084dce4e93e84e92efd1e1d5334db05f2e83bcef74f\n",
            "Successfully built pyspark\n",
            "Installing collected packages: py4j, pyspark\n",
            "Successfully installed py4j-0.10.9.3 pyspark-3.2.1\n"
          ]
        }
      ],
      "source": [
        "!pip3 install pyspark"
      ]
    },
    {
      "cell_type": "code",
      "execution_count": 5,
      "metadata": {
        "id": "WlhAzt8xu5ry"
      },
      "outputs": [],
      "source": [
        "from pyspark.sql.functions import lit\n",
        "from pyspark.sql.types import (\n",
        "    ArrayType,\n",
        "    IntegerType,\n",
        "    MapType,\n",
        "    StringType,\n",
        "    StructField,\n",
        "    StructType,\n",
        ")\n",
        "\n",
        "\n",
        "def generate_cord19_schema():\n",
        "\n",
        "  author_fields = [\n",
        "        StructField(\"first\", StringType()),\n",
        "        StructField(\"middle\", ArrayType(StringType())),\n",
        "        StructField(\"last\", StringType()),\n",
        "        StructField(\"suffix\", StringType()),\n",
        "    ]\n",
        "\n",
        "  authors_schema = ArrayType(\n",
        "      StructType(\n",
        "          author_fields\n",
        "          + [\n",
        "              # Uncomment to cast field into a JSON string. This field is not\n",
        "              # well-specified in the source.\n",
        "              StructField(\n",
        "                  \"affiliation\",\n",
        "                  StructType(\n",
        "                      [\n",
        "                          StructField(\"laboratory\", StringType()),\n",
        "                          StructField(\"institution\", StringType()),\n",
        "                          StructField(\n",
        "                              \"location\",\n",
        "                              StructType(\n",
        "                                  [\n",
        "                                      StructField(\"settlement\", StringType()),\n",
        "                                      StructField(\"country\", StringType()),\n",
        "                                  ]\n",
        "                              ),\n",
        "                          ),\n",
        "                      ]\n",
        "                  ),\n",
        "              ),\n",
        "              StructField(\"email\", StringType()),\n",
        "          ]\n",
        "      )\n",
        "  )\n",
        "\n",
        "  # used in `section_schema` for citations, references, and equations\n",
        "  spans_schema = ArrayType(\n",
        "      StructType(\n",
        "          [\n",
        "              # character indices of inline citations\n",
        "              StructField(\"start\", IntegerType()),\n",
        "              StructField(\"end\", IntegerType()),\n",
        "              StructField(\"text\", StringType()),\n",
        "              StructField(\"ref_id\", StringType()),\n",
        "          ]\n",
        "      )\n",
        "  )\n",
        "\n",
        "  # A section of the paper, which includes the abstract, body, and back matter.\n",
        "  section_schema = ArrayType(\n",
        "      StructType(\n",
        "          [\n",
        "              StructField(\"text\", StringType()),\n",
        "              StructField(\"cite_spans\", spans_schema),\n",
        "              StructField(\"ref_spans\", spans_schema),\n",
        "              # While equations don't appear in the abstract, but appear here\n",
        "              # for consistency\n",
        "              StructField(\"eq_spans\", spans_schema),\n",
        "              StructField(\"section\", StringType()),\n",
        "          ]\n",
        "      )\n",
        "  )\n",
        "\n",
        "  bib_schema = MapType(\n",
        "      StringType(),\n",
        "      StructType(\n",
        "          [\n",
        "              StructField(\"ref_id\", StringType()),\n",
        "              StructField(\"title\", StringType()),\n",
        "              StructField(\"authors\", ArrayType(StructType(author_fields))),\n",
        "              StructField(\"year\", IntegerType()),\n",
        "              StructField(\"venue\", StringType()),\n",
        "              StructField(\"volume\", StringType()),\n",
        "              StructField(\"issn\", StringType()),\n",
        "              StructField(\"pages\", StringType()),\n",
        "              StructField(\n",
        "                  \"other_ids\",\n",
        "                  StructType([StructField(\"DOI\", ArrayType(StringType()))]),\n",
        "              ),\n",
        "          ]\n",
        "      ),\n",
        "      True,\n",
        "  )\n",
        "\n",
        "  # Can be one of table or figure captions\n",
        "  ref_schema = MapType(\n",
        "      StringType(),\n",
        "      StructType(\n",
        "          [\n",
        "              StructField(\"text\", StringType()),\n",
        "              # Likely equation spans, not included in source schema, but\n",
        "              # appears in JSON\n",
        "              StructField(\"latex\", StringType()),\n",
        "              StructField(\"type\", StringType()),\n",
        "          ]\n",
        "      ),\n",
        "  )\n",
        "\n",
        "  return StructType(\n",
        "      [\n",
        "          StructField(\"paper_id\", StringType()),\n",
        "          StructField(\n",
        "              \"metadata\",\n",
        "              StructType(\n",
        "                  [\n",
        "                      StructField(\"title\", StringType()),\n",
        "                      StructField(\"authors\", authors_schema),\n",
        "                  ]\n",
        "              ),\n",
        "              True,\n",
        "          ),\n",
        "      \n",
        "          StructField(\"body_text\", section_schema),\n",
        "          StructField(\"bib_entries\", bib_schema),\n",
        "          StructField(\"ref_entries\", ref_schema),\n",
        "          StructField(\"back_matter\", section_schema),\n",
        "      ]\n",
        "  )\n"
      ]
    },
    {
      "cell_type": "code",
      "execution_count": 6,
      "metadata": {
        "id": "Qii895m174ij"
      },
      "outputs": [],
      "source": [
        "def extract_dataframe_kaggle(spark):\n",
        "    \"\"\"Extract a structured DataFrame from the semi-structured document dump.\n",
        "\n",
        "    It should be fairly straightforward to modify this once there are new\n",
        "    documents available. The date of availability (`crawl_date`) and `source`\n",
        "    are available as metadata.\n",
        "    \"\"\"\n",
        "    base = \"ppmc/pmc_json\"\n",
        "\n",
        "    dataframe = None\n",
        "   \n",
        "    path = f\"{base}/\"\n",
        "    df = (spark.read.json(path, schema=generate_cord19_schema(), multiLine=True)\n",
        "        )\n",
        "    if not dataframe:\n",
        "        dataframe = df\n",
        "    else:\n",
        "        dataframe = dataframe.union(df)\n",
        "    return dataframe\n"
      ]
    },
    {
      "cell_type": "code",
      "source": [
        "from pyspark.sql import SparkSession\n",
        "from pyspark.sql import functions as F\n",
        "MAX_MEMORY = \"50g\"\n",
        "spark = SparkSession \\\n",
        "    .builder \\\n",
        "    .appName(\"sparkdf\") \\\n",
        "    .config(\"spark.executor.memory\", MAX_MEMORY) \\\n",
        "    .config(\"spark.driver.memory\", MAX_MEMORY) \\\n",
        "    .config(\"spark.memory.offHeap.enabled\",\"true\")\\\n",
        "    .config(\"spark.memory.offHeap.size\",\"50g\") \\\n",
        "    .config(\"spark.ui.port\", \"4040\") \\\n",
        "    .master(\"local[*]\") \\\n",
        "    .getOrCreate()\n",
        "spark\n"
      ],
      "metadata": {
        "id": "zPcMzWCPIUY3",
        "outputId": "743aff76-38dd-4e68-84b8-eb864ca484fb",
        "colab": {
          "base_uri": "https://localhost:8080/",
          "height": 216
        }
      },
      "execution_count": 7,
      "outputs": [
        {
          "output_type": "execute_result",
          "data": {
            "text/plain": [
              "<pyspark.sql.session.SparkSession at 0x7f8cfcf4bf10>"
            ],
            "text/html": [
              "\n",
              "            <div>\n",
              "                <p><b>SparkSession - in-memory</b></p>\n",
              "                \n",
              "        <div>\n",
              "            <p><b>SparkContext</b></p>\n",
              "\n",
              "            <p><a href=\"http://3bf32dd32a9c:4040\">Spark UI</a></p>\n",
              "\n",
              "            <dl>\n",
              "              <dt>Version</dt>\n",
              "                <dd><code>v3.2.1</code></dd>\n",
              "              <dt>Master</dt>\n",
              "                <dd><code>local[*]</code></dd>\n",
              "              <dt>AppName</dt>\n",
              "                <dd><code>sparkdf</code></dd>\n",
              "            </dl>\n",
              "        </div>\n",
              "        \n",
              "            </div>\n",
              "        "
            ]
          },
          "metadata": {},
          "execution_count": 7
        }
      ]
    },
    {
      "cell_type": "code",
      "execution_count": 8,
      "metadata": {
        "id": "k0eCrawAv5IV",
        "colab": {
          "base_uri": "https://localhost:8080/"
        },
        "outputId": "cee631e0-7d4e-48a9-e216-37a16e53c686"
      },
      "outputs": [
        {
          "output_type": "stream",
          "name": "stdout",
          "text": [
            "root\n",
            " |-- paper_id: string (nullable = true)\n",
            " |-- metadata: struct (nullable = true)\n",
            " |    |-- title: string (nullable = true)\n",
            " |    |-- authors: array (nullable = true)\n",
            " |    |    |-- element: struct (containsNull = true)\n",
            " |    |    |    |-- first: string (nullable = true)\n",
            " |    |    |    |-- middle: array (nullable = true)\n",
            " |    |    |    |    |-- element: string (containsNull = true)\n",
            " |    |    |    |-- last: string (nullable = true)\n",
            " |    |    |    |-- suffix: string (nullable = true)\n",
            " |    |    |    |-- affiliation: struct (nullable = true)\n",
            " |    |    |    |    |-- laboratory: string (nullable = true)\n",
            " |    |    |    |    |-- institution: string (nullable = true)\n",
            " |    |    |    |    |-- location: struct (nullable = true)\n",
            " |    |    |    |    |    |-- settlement: string (nullable = true)\n",
            " |    |    |    |    |    |-- country: string (nullable = true)\n",
            " |    |    |    |-- email: string (nullable = true)\n",
            " |-- body_text: array (nullable = true)\n",
            " |    |-- element: struct (containsNull = true)\n",
            " |    |    |-- text: string (nullable = true)\n",
            " |    |    |-- cite_spans: array (nullable = true)\n",
            " |    |    |    |-- element: struct (containsNull = true)\n",
            " |    |    |    |    |-- start: integer (nullable = true)\n",
            " |    |    |    |    |-- end: integer (nullable = true)\n",
            " |    |    |    |    |-- text: string (nullable = true)\n",
            " |    |    |    |    |-- ref_id: string (nullable = true)\n",
            " |    |    |-- ref_spans: array (nullable = true)\n",
            " |    |    |    |-- element: struct (containsNull = true)\n",
            " |    |    |    |    |-- start: integer (nullable = true)\n",
            " |    |    |    |    |-- end: integer (nullable = true)\n",
            " |    |    |    |    |-- text: string (nullable = true)\n",
            " |    |    |    |    |-- ref_id: string (nullable = true)\n",
            " |    |    |-- eq_spans: array (nullable = true)\n",
            " |    |    |    |-- element: struct (containsNull = true)\n",
            " |    |    |    |    |-- start: integer (nullable = true)\n",
            " |    |    |    |    |-- end: integer (nullable = true)\n",
            " |    |    |    |    |-- text: string (nullable = true)\n",
            " |    |    |    |    |-- ref_id: string (nullable = true)\n",
            " |    |    |-- section: string (nullable = true)\n",
            " |-- bib_entries: map (nullable = true)\n",
            " |    |-- key: string\n",
            " |    |-- value: struct (valueContainsNull = true)\n",
            " |    |    |-- ref_id: string (nullable = true)\n",
            " |    |    |-- title: string (nullable = true)\n",
            " |    |    |-- authors: array (nullable = true)\n",
            " |    |    |    |-- element: struct (containsNull = true)\n",
            " |    |    |    |    |-- first: string (nullable = true)\n",
            " |    |    |    |    |-- middle: array (nullable = true)\n",
            " |    |    |    |    |    |-- element: string (containsNull = true)\n",
            " |    |    |    |    |-- last: string (nullable = true)\n",
            " |    |    |    |    |-- suffix: string (nullable = true)\n",
            " |    |    |-- year: integer (nullable = true)\n",
            " |    |    |-- venue: string (nullable = true)\n",
            " |    |    |-- volume: string (nullable = true)\n",
            " |    |    |-- issn: string (nullable = true)\n",
            " |    |    |-- pages: string (nullable = true)\n",
            " |    |    |-- other_ids: struct (nullable = true)\n",
            " |    |    |    |-- DOI: array (nullable = true)\n",
            " |    |    |    |    |-- element: string (containsNull = true)\n",
            " |-- ref_entries: map (nullable = true)\n",
            " |    |-- key: string\n",
            " |    |-- value: struct (valueContainsNull = true)\n",
            " |    |    |-- text: string (nullable = true)\n",
            " |    |    |-- latex: string (nullable = true)\n",
            " |    |    |-- type: string (nullable = true)\n",
            " |-- back_matter: array (nullable = true)\n",
            " |    |-- element: struct (containsNull = true)\n",
            " |    |    |-- text: string (nullable = true)\n",
            " |    |    |-- cite_spans: array (nullable = true)\n",
            " |    |    |    |-- element: struct (containsNull = true)\n",
            " |    |    |    |    |-- start: integer (nullable = true)\n",
            " |    |    |    |    |-- end: integer (nullable = true)\n",
            " |    |    |    |    |-- text: string (nullable = true)\n",
            " |    |    |    |    |-- ref_id: string (nullable = true)\n",
            " |    |    |-- ref_spans: array (nullable = true)\n",
            " |    |    |    |-- element: struct (containsNull = true)\n",
            " |    |    |    |    |-- start: integer (nullable = true)\n",
            " |    |    |    |    |-- end: integer (nullable = true)\n",
            " |    |    |    |    |-- text: string (nullable = true)\n",
            " |    |    |    |    |-- ref_id: string (nullable = true)\n",
            " |    |    |-- eq_spans: array (nullable = true)\n",
            " |    |    |    |-- element: struct (containsNull = true)\n",
            " |    |    |    |    |-- start: integer (nullable = true)\n",
            " |    |    |    |    |-- end: integer (nullable = true)\n",
            " |    |    |    |    |-- text: string (nullable = true)\n",
            " |    |    |    |    |-- ref_id: string (nullable = true)\n",
            " |    |    |-- section: string (nullable = true)\n",
            "\n"
          ]
        }
      ],
      "source": [
        "from pyspark.sql import SparkSession\n",
        "from pyspark.sql import functions as F\n",
        "\n",
        "df = extract_dataframe_kaggle(spark)\n",
        "df.printSchema()\n",
        "\n",
        "df.createOrReplaceTempView(\"cord19\")"
      ]
    },
    {
      "cell_type": "code",
      "execution_count": null,
      "metadata": {
        "id": "_FHpW7sFoemh"
      },
      "outputs": [],
      "source": [
        "df.show(3)"
      ]
    },
    {
      "cell_type": "code",
      "execution_count": null,
      "metadata": {
        "id": "DVwhH1GYdUQA"
      },
      "outputs": [],
      "source": [
        "df.count()"
      ]
    },
    {
      "cell_type": "code",
      "execution_count": 9,
      "metadata": {
        "id": "XBk6XQeYy-1r"
      },
      "outputs": [],
      "source": [
        "from pyspark.sql import Window\n",
        "\n",
        "body_text = (\n",
        "    df.select(\"paper_id\", F.posexplode(\"body_text\").alias(\"pos\", \"value\"))\n",
        "    .select(\"paper_id\", \"pos\", \"value.text\")\n",
        "    .withColumn(\"ordered_text\", F.collect_list(\"text\").over(Window.partitionBy(\"paper_id\").orderBy(\"pos\")))\n",
        "    .groupBy(\"paper_id\")\n",
        "    .agg(F.max(\"ordered_text\").alias(\"sentences\"))\n",
        "    .select(\"paper_id\", F.array_join(\"sentences\", \" \").alias(\"body_text\"))\n",
        "    .withColumn(\"words\", F.size(F.split(\"body_text\", \"\\s+\")))\n",
        ")\n",
        "\n",
        "# body_text.show(n=5)\n"
      ]
    },
    {
      "cell_type": "code",
      "source": [
        "import pyspark\n",
        "def dbg(x):\n",
        "  \"\"\" A helper function to print debugging information on RDDs \"\"\"\n",
        "  if isinstance(x, pyspark.RDD):\n",
        "    print([(t[0], list(t[1]) if \n",
        "            isinstance(t[1], pyspark.resultiterable.ResultIterable) else t[1])\n",
        "           if isinstance(t, tuple) else t\n",
        "           for t in x.take(100)])\n",
        "  else:\n",
        "    print(x)"
      ],
      "metadata": {
        "id": "ogpTYoH0_G_V"
      },
      "execution_count": 10,
      "outputs": []
    },
    {
      "cell_type": "code",
      "source": [
        "dbg(body_text)"
      ],
      "metadata": {
        "colab": {
          "base_uri": "https://localhost:8080/"
        },
        "id": "Ntvh_DCEAxv1",
        "outputId": "e3af96bd-1da0-4c82-bd23-5072b91163e5"
      },
      "execution_count": 11,
      "outputs": [
        {
          "output_type": "stream",
          "name": "stdout",
          "text": [
            "DataFrame[paper_id: string, body_text: string, words: int]\n"
          ]
        }
      ]
    },
    {
      "cell_type": "code",
      "source": [
        "def get_headlines(row):\n",
        "    return row['body_text']\n"
      ],
      "metadata": {
        "id": "NXD4ZuEsBBj7"
      },
      "execution_count": 12,
      "outputs": []
    },
    {
      "cell_type": "code",
      "source": [
        "body_text1000 = body_text.limit(1000)\n"
      ],
      "metadata": {
        "id": "rKlJIGDYgp7E"
      },
      "execution_count": 13,
      "outputs": []
    },
    {
      "cell_type": "code",
      "source": [
        "bodytextrdd1000 = body_text1000.rdd.map(get_headlines)\n"
      ],
      "metadata": {
        "id": "S6hnIxSzSKO-"
      },
      "execution_count": 14,
      "outputs": []
    },
    {
      "cell_type": "code",
      "source": [
        "bodytextlist=[bodytextrdd1000.collect()]"
      ],
      "metadata": {
        "id": "MTWCgStAMY4K"
      },
      "execution_count": 16,
      "outputs": []
    },
    {
      "cell_type": "code",
      "source": [
        "paperidrdd1000=body_text1000.select(\"paper_id\").rdd.flatMap(lambda x: x).collect()\n"
      ],
      "metadata": {
        "id": "crplAZL6fA6O"
      },
      "execution_count": 17,
      "outputs": []
    },
    {
      "cell_type": "code",
      "source": [
        "paperidlist=[paperidrdd1000]"
      ],
      "metadata": {
        "id": "wTNo_uTrmpwP"
      },
      "execution_count": 18,
      "outputs": []
    },
    {
      "cell_type": "code",
      "source": [
        "import nltk\n",
        "nltk.download('vader_lexicon')\n",
        "from nltk.sentiment.vader import SentimentIntensityAnalyzer as SIA\n",
        "\n",
        "sia = SIA()\n",
        "results = []"
      ],
      "metadata": {
        "colab": {
          "base_uri": "https://localhost:8080/"
        },
        "id": "-SpkChCnv599",
        "outputId": "5521287d-7d99-4472-a64c-240eb0d049ab"
      },
      "execution_count": 19,
      "outputs": [
        {
          "output_type": "stream",
          "name": "stdout",
          "text": [
            "[nltk_data] Downloading package vader_lexicon to /root/nltk_data...\n"
          ]
        },
        {
          "output_type": "stream",
          "name": "stderr",
          "text": [
            "/usr/local/lib/python3.7/dist-packages/nltk/twitter/__init__.py:20: UserWarning: The twython library has not been installed. Some functionality from the twitter package will not be available.\n",
            "  warnings.warn(\"The twython library has not been installed. \"\n"
          ]
        }
      ]
    },
    {
      "cell_type": "code",
      "source": [
        "results=[]\n",
        "for lines,paperid in zip(bodytextlist,paperidlist):\n",
        "  \n",
        "  for line,id in zip(lines,paperid) :\n",
        "\n",
        "    try:\n",
        "      pol_score = sia.polarity_scores(line)\n",
        "      pol_score['body_text'] = line\n",
        "      pol_score['paper_id']=id\n",
        "      results.append(pol_score)\n",
        "    except:\n",
        "      print('Skipped')\n"
      ],
      "metadata": {
        "id": "L5Vsll9nhCYq"
      },
      "execution_count": 20,
      "outputs": []
    },
    {
      "cell_type": "code",
      "source": [
        "import numpy as np\n",
        "df_result = pd.DataFrame(results)\n",
        "\n",
        "df_result['label'] = np.zeros(len(df_result)).tolist()\n",
        "df_result.loc[df_result['compound'] > 0.98, 'label'] = 1\n",
        "df_result.loc[df_result['compound'] < -0.98 , 'label'] = -1\n",
        "df_result.to_csv('body_text_results.csv')"
      ],
      "metadata": {
        "id": "iAl1niTzyqYw"
      },
      "execution_count": 25,
      "outputs": []
    },
    {
      "cell_type": "code",
      "source": [
        "df_result"
      ],
      "metadata": {
        "colab": {
          "base_uri": "https://localhost:8080/",
          "height": 419
        },
        "id": "xNKdcy7k0wE8",
        "outputId": "4b6d067b-769c-4956-958d-809b94ccd034"
      },
      "execution_count": 26,
      "outputs": [
        {
          "output_type": "execute_result",
          "data": {
            "text/plain": [
              "       neg    neu    pos  compound  \\\n",
              "0    0.017  0.922  0.061    0.9997   \n",
              "1    0.053  0.893  0.054   -0.9862   \n",
              "2    0.036  0.897  0.066    0.9992   \n",
              "3    0.020  0.857  0.124    0.9999   \n",
              "4    0.043  0.872  0.085    0.9991   \n",
              "..     ...    ...    ...       ...   \n",
              "995  0.036  0.921  0.044    0.9615   \n",
              "996  0.090  0.818  0.092    0.9258   \n",
              "997  0.111  0.857  0.033   -0.9998   \n",
              "998  0.029  0.889  0.083    0.9985   \n",
              "999  0.028  0.927  0.045    0.9992   \n",
              "\n",
              "                                             body_text    paper_id  label  \n",
              "0    Severe acute respiratory syndrome (SARS) first...  PMC7152143    1.0  \n",
              "1    Virus-host interactions are crucial for the ou...  PMC7130089   -1.0  \n",
              "2    The control of diseases associated with highly...  PMC8652887    1.0  \n",
              "3    SARS is a new infectious disease that emerged ...  PMC7995808    1.0  \n",
              "4    Hepatitis C virus (HCV, a member of the Flaviv...  PMC7158344    1.0  \n",
              "..                                                 ...         ...    ...  \n",
              "995  Acute appendicitis (AA) is the most common gen...  PMC7978675    0.0  \n",
              "996  The emergence of novel coronavirus disease 201...  PMC6357155    0.0  \n",
              "997  In December 2019, an outbreak of a novel coron...  PMC8307643   -1.0  \n",
              "998  The World Health Organization (WHO) has been e...  PMC8398366    1.0  \n",
              "999  Design automation and safety of autonomous sys...  PMC4252826    1.0  \n",
              "\n",
              "[1000 rows x 7 columns]"
            ],
            "text/html": [
              "\n",
              "  <div id=\"df-f6a301e6-f792-4fb0-98af-392081afb0cb\">\n",
              "    <div class=\"colab-df-container\">\n",
              "      <div>\n",
              "<style scoped>\n",
              "    .dataframe tbody tr th:only-of-type {\n",
              "        vertical-align: middle;\n",
              "    }\n",
              "\n",
              "    .dataframe tbody tr th {\n",
              "        vertical-align: top;\n",
              "    }\n",
              "\n",
              "    .dataframe thead th {\n",
              "        text-align: right;\n",
              "    }\n",
              "</style>\n",
              "<table border=\"1\" class=\"dataframe\">\n",
              "  <thead>\n",
              "    <tr style=\"text-align: right;\">\n",
              "      <th></th>\n",
              "      <th>neg</th>\n",
              "      <th>neu</th>\n",
              "      <th>pos</th>\n",
              "      <th>compound</th>\n",
              "      <th>body_text</th>\n",
              "      <th>paper_id</th>\n",
              "      <th>label</th>\n",
              "    </tr>\n",
              "  </thead>\n",
              "  <tbody>\n",
              "    <tr>\n",
              "      <th>0</th>\n",
              "      <td>0.017</td>\n",
              "      <td>0.922</td>\n",
              "      <td>0.061</td>\n",
              "      <td>0.9997</td>\n",
              "      <td>Severe acute respiratory syndrome (SARS) first...</td>\n",
              "      <td>PMC7152143</td>\n",
              "      <td>1.0</td>\n",
              "    </tr>\n",
              "    <tr>\n",
              "      <th>1</th>\n",
              "      <td>0.053</td>\n",
              "      <td>0.893</td>\n",
              "      <td>0.054</td>\n",
              "      <td>-0.9862</td>\n",
              "      <td>Virus-host interactions are crucial for the ou...</td>\n",
              "      <td>PMC7130089</td>\n",
              "      <td>-1.0</td>\n",
              "    </tr>\n",
              "    <tr>\n",
              "      <th>2</th>\n",
              "      <td>0.036</td>\n",
              "      <td>0.897</td>\n",
              "      <td>0.066</td>\n",
              "      <td>0.9992</td>\n",
              "      <td>The control of diseases associated with highly...</td>\n",
              "      <td>PMC8652887</td>\n",
              "      <td>1.0</td>\n",
              "    </tr>\n",
              "    <tr>\n",
              "      <th>3</th>\n",
              "      <td>0.020</td>\n",
              "      <td>0.857</td>\n",
              "      <td>0.124</td>\n",
              "      <td>0.9999</td>\n",
              "      <td>SARS is a new infectious disease that emerged ...</td>\n",
              "      <td>PMC7995808</td>\n",
              "      <td>1.0</td>\n",
              "    </tr>\n",
              "    <tr>\n",
              "      <th>4</th>\n",
              "      <td>0.043</td>\n",
              "      <td>0.872</td>\n",
              "      <td>0.085</td>\n",
              "      <td>0.9991</td>\n",
              "      <td>Hepatitis C virus (HCV, a member of the Flaviv...</td>\n",
              "      <td>PMC7158344</td>\n",
              "      <td>1.0</td>\n",
              "    </tr>\n",
              "    <tr>\n",
              "      <th>...</th>\n",
              "      <td>...</td>\n",
              "      <td>...</td>\n",
              "      <td>...</td>\n",
              "      <td>...</td>\n",
              "      <td>...</td>\n",
              "      <td>...</td>\n",
              "      <td>...</td>\n",
              "    </tr>\n",
              "    <tr>\n",
              "      <th>995</th>\n",
              "      <td>0.036</td>\n",
              "      <td>0.921</td>\n",
              "      <td>0.044</td>\n",
              "      <td>0.9615</td>\n",
              "      <td>Acute appendicitis (AA) is the most common gen...</td>\n",
              "      <td>PMC7978675</td>\n",
              "      <td>0.0</td>\n",
              "    </tr>\n",
              "    <tr>\n",
              "      <th>996</th>\n",
              "      <td>0.090</td>\n",
              "      <td>0.818</td>\n",
              "      <td>0.092</td>\n",
              "      <td>0.9258</td>\n",
              "      <td>The emergence of novel coronavirus disease 201...</td>\n",
              "      <td>PMC6357155</td>\n",
              "      <td>0.0</td>\n",
              "    </tr>\n",
              "    <tr>\n",
              "      <th>997</th>\n",
              "      <td>0.111</td>\n",
              "      <td>0.857</td>\n",
              "      <td>0.033</td>\n",
              "      <td>-0.9998</td>\n",
              "      <td>In December 2019, an outbreak of a novel coron...</td>\n",
              "      <td>PMC8307643</td>\n",
              "      <td>-1.0</td>\n",
              "    </tr>\n",
              "    <tr>\n",
              "      <th>998</th>\n",
              "      <td>0.029</td>\n",
              "      <td>0.889</td>\n",
              "      <td>0.083</td>\n",
              "      <td>0.9985</td>\n",
              "      <td>The World Health Organization (WHO) has been e...</td>\n",
              "      <td>PMC8398366</td>\n",
              "      <td>1.0</td>\n",
              "    </tr>\n",
              "    <tr>\n",
              "      <th>999</th>\n",
              "      <td>0.028</td>\n",
              "      <td>0.927</td>\n",
              "      <td>0.045</td>\n",
              "      <td>0.9992</td>\n",
              "      <td>Design automation and safety of autonomous sys...</td>\n",
              "      <td>PMC4252826</td>\n",
              "      <td>1.0</td>\n",
              "    </tr>\n",
              "  </tbody>\n",
              "</table>\n",
              "<p>1000 rows × 7 columns</p>\n",
              "</div>\n",
              "      <button class=\"colab-df-convert\" onclick=\"convertToInteractive('df-f6a301e6-f792-4fb0-98af-392081afb0cb')\"\n",
              "              title=\"Convert this dataframe to an interactive table.\"\n",
              "              style=\"display:none;\">\n",
              "        \n",
              "  <svg xmlns=\"http://www.w3.org/2000/svg\" height=\"24px\"viewBox=\"0 0 24 24\"\n",
              "       width=\"24px\">\n",
              "    <path d=\"M0 0h24v24H0V0z\" fill=\"none\"/>\n",
              "    <path d=\"M18.56 5.44l.94 2.06.94-2.06 2.06-.94-2.06-.94-.94-2.06-.94 2.06-2.06.94zm-11 1L8.5 8.5l.94-2.06 2.06-.94-2.06-.94L8.5 2.5l-.94 2.06-2.06.94zm10 10l.94 2.06.94-2.06 2.06-.94-2.06-.94-.94-2.06-.94 2.06-2.06.94z\"/><path d=\"M17.41 7.96l-1.37-1.37c-.4-.4-.92-.59-1.43-.59-.52 0-1.04.2-1.43.59L10.3 9.45l-7.72 7.72c-.78.78-.78 2.05 0 2.83L4 21.41c.39.39.9.59 1.41.59.51 0 1.02-.2 1.41-.59l7.78-7.78 2.81-2.81c.8-.78.8-2.07 0-2.86zM5.41 20L4 18.59l7.72-7.72 1.47 1.35L5.41 20z\"/>\n",
              "  </svg>\n",
              "      </button>\n",
              "      \n",
              "  <style>\n",
              "    .colab-df-container {\n",
              "      display:flex;\n",
              "      flex-wrap:wrap;\n",
              "      gap: 12px;\n",
              "    }\n",
              "\n",
              "    .colab-df-convert {\n",
              "      background-color: #E8F0FE;\n",
              "      border: none;\n",
              "      border-radius: 50%;\n",
              "      cursor: pointer;\n",
              "      display: none;\n",
              "      fill: #1967D2;\n",
              "      height: 32px;\n",
              "      padding: 0 0 0 0;\n",
              "      width: 32px;\n",
              "    }\n",
              "\n",
              "    .colab-df-convert:hover {\n",
              "      background-color: #E2EBFA;\n",
              "      box-shadow: 0px 1px 2px rgba(60, 64, 67, 0.3), 0px 1px 3px 1px rgba(60, 64, 67, 0.15);\n",
              "      fill: #174EA6;\n",
              "    }\n",
              "\n",
              "    [theme=dark] .colab-df-convert {\n",
              "      background-color: #3B4455;\n",
              "      fill: #D2E3FC;\n",
              "    }\n",
              "\n",
              "    [theme=dark] .colab-df-convert:hover {\n",
              "      background-color: #434B5C;\n",
              "      box-shadow: 0px 1px 3px 1px rgba(0, 0, 0, 0.15);\n",
              "      filter: drop-shadow(0px 1px 2px rgba(0, 0, 0, 0.3));\n",
              "      fill: #FFFFFF;\n",
              "    }\n",
              "  </style>\n",
              "\n",
              "      <script>\n",
              "        const buttonEl =\n",
              "          document.querySelector('#df-f6a301e6-f792-4fb0-98af-392081afb0cb button.colab-df-convert');\n",
              "        buttonEl.style.display =\n",
              "          google.colab.kernel.accessAllowed ? 'block' : 'none';\n",
              "\n",
              "        async function convertToInteractive(key) {\n",
              "          const element = document.querySelector('#df-f6a301e6-f792-4fb0-98af-392081afb0cb');\n",
              "          const dataTable =\n",
              "            await google.colab.kernel.invokeFunction('convertToInteractive',\n",
              "                                                     [key], {});\n",
              "          if (!dataTable) return;\n",
              "\n",
              "          const docLinkHtml = 'Like what you see? Visit the ' +\n",
              "            '<a target=\"_blank\" href=https://colab.research.google.com/notebooks/data_table.ipynb>data table notebook</a>'\n",
              "            + ' to learn more about interactive tables.';\n",
              "          element.innerHTML = '';\n",
              "          dataTable['output_type'] = 'display_data';\n",
              "          await google.colab.output.renderOutput(dataTable, element);\n",
              "          const docLink = document.createElement('div');\n",
              "          docLink.innerHTML = docLinkHtml;\n",
              "          element.appendChild(docLink);\n",
              "        }\n",
              "      </script>\n",
              "    </div>\n",
              "  </div>\n",
              "  "
            ]
          },
          "metadata": {},
          "execution_count": 26
        }
      ]
    },
    {
      "cell_type": "code",
      "execution_count": null,
      "metadata": {
        "id": "pqV04eeJeSYQ"
      },
      "outputs": [],
      "source": [
        "spark.stop()"
      ]
    },
    {
      "cell_type": "code",
      "execution_count": null,
      "metadata": {
        "id": "CbXSKcuVdUT0"
      },
      "outputs": [],
      "source": [
        ""
      ]
    },
    {
      "cell_type": "code",
      "execution_count": null,
      "metadata": {
        "id": "SiqdfLSperyq"
      },
      "outputs": [],
      "source": [
        ""
      ]
    },
    {
      "cell_type": "code",
      "execution_count": null,
      "metadata": {
        "id": "sSOes_FTerbe"
      },
      "outputs": [],
      "source": [
        ""
      ]
    },
    {
      "cell_type": "code",
      "execution_count": null,
      "metadata": {
        "id": "Xamjx1uUiG1o"
      },
      "outputs": [],
      "source": [
        "\n"
      ]
    }
  ],
  "metadata": {
    "colab": {
      "collapsed_sections": [],
      "name": "“Copy of pmcid_text.ipynb”的副本",
      "provenance": []
    },
    "kernelspec": {
      "display_name": "Python 3",
      "name": "python3"
    },
    "language_info": {
      "name": "python"
    }
  },
  "nbformat": 4,
  "nbformat_minor": 0
}